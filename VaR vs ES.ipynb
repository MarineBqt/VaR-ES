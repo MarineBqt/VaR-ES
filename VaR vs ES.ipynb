{
 "cells": [
  {
   "cell_type": "markdown",
   "id": "98de4572",
   "metadata": {},
   "source": [
    "# <center>Value at Risk : VaR & Expected Shortfall : ES</center>"
   ]
  },
  {
   "cell_type": "markdown",
   "id": "9d88b8f2",
   "metadata": {},
   "source": [
    "VaR was first introduced to financial markets in the early 1980s by Banker Trust, then popularized by JP Morgan as a way to measure the risk of their portfolios. It has since become a widely used risk management tool in the financial industry, and is used by banks, asset managers, and other financial institutions to measure and manage risk.\n",
    "\n",
    "However, the financial crisis of 2008 highlighted the limitations of VaR as a risk management tool, as it did not accurately capture the full extent of the losses suffered by many financial institutions during the crisis. This led to the development of more sophisticated risk management tools, such as expected shortfall which we will discuss in the second part of the article.\n",
    "\n",
    "**Value at Risk**  \n",
    "\n",
    "To calculate the VaR, we need to determine :    \n",
    "\n",
    "-The level of confidence: This is the probability that the actual loss will not exceed the VaR estimate.  \n",
    "-The time horizon: This is the length of time over which the VaR calculation is made.  \n",
    "-The asset or portfolio: This is the financial instrument or group of financial instruments for which we calculate the VaR.   \n",
    "-The distribution of returns : In most cases, this distribution is assumed to be normal.\n",
    "\n",
    "VaR is used to determine the maximum loss of a portfolio over a given period with a given probability.\n",
    "\n",
    "$$\\text{X a loss}: VaR_\\alpha(X)=F_X^{-1}(\\alpha)$$\n",
    "\n",
    "$$\\text{X a gain}: VaR_\\alpha(X)=-F_X^{-1}(1-\\alpha)$$  \n",
    "\n",
    "where  \n",
    "\n",
    "$$F^{-1}(p)=\\text{inf}\\{ x\\in \\mathbb{R},F(x)\\geq p \\}$$\n",
    "  \n",
    "For example, a VaR of €1000 with a 95% confidence level over a one-week horizon means that there is a 5% chance that the portfolio will lose more than €1000 over the next week.\n",
    "\n",
    "In this part we will use the Natixis stock between 2015 and 2019 which is represented below. \n",
    "\n",
    "Before calculating the VaR, the first step is to calculate the returns.\n",
    "\n",
    "$$\\text{Stock Return} = \\frac{P_{t-1}-P_t}{P_t}$$\n",
    "\n",
    "**Historical VaR :**  uses past data to calculate the VaR for a given portfolio. This method is based on the assumption that the past performance of the portfolio is a good indicator of its future performance.\n",
    "\n",
    "There are several methods to implement historical VaR, here we will use the following :  \n",
    "\n",
    "-Empirical VaR  \n",
    "-VaR based on a parametric distribution (Gaussian)  \n",
    "-VaR based on a non-parametric distribution (Gaussian Kernel)"
   ]
  },
  {
   "cell_type": "code",
   "execution_count": 1,
   "id": "b90dbf3d",
   "metadata": {},
   "outputs": [],
   "source": [
    "import scipy.stats as st\n",
    "import numpy as np\n",
    "import matplotlib.pyplot as plt\n",
    "\n",
    "#Data recovery and conversion\n",
    "def Openfile(file):\n",
    "    f=open(file,'r')\n",
    "    l=[]\n",
    "    for line in f:\n",
    "        currentline=line.split()\n",
    "        l.append([currentline[0],float(currentline[1].replace(',','.'))])\n",
    "    f.close()\n",
    "    return l\n",
    "\n",
    "\n",
    "#Calculation of returns\n",
    "def rendement(l):\n",
    "    rend=[0]\n",
    "    for i in range(1,len(l)):\n",
    "        rend.append((l[i][1]-l[i-1][1])/l[i-1][1])\n",
    "    return rend\n",
    "    \n",
    "\n",
    "#Value at risk calculation\n",
    "def VaR_empirique(rend,alpha):\n",
    "   rendsorted=sorted(rend)\n",
    "   return np.quantile(rendsorted, q=alpha) \n",
    "\n",
    "\n",
    "def VaR_gauss(rend,alpha):\n",
    "    z=st.norm.ppf(alpha)\n",
    "    return np.mean(rend)+z*np.sqrt(np.var(rend)) \n",
    "\n",
    "def VaR_kernel(rend,alpha): \n",
    "    kde=st.gaussian_kde(rend)\n",
    "    sample=kde.resample(size=513)\n",
    "    return np.quantile(sample,alpha)\n",
    "  "
   ]
  },
  {
   "cell_type": "code",
   "execution_count": 8,
   "id": "0c82a887",
   "metadata": {},
   "outputs": [
    {
     "name": "stdout",
     "output_type": "stream",
     "text": [
      "VaR 99% Empirique : -0.05378147466007381\n",
      "VaR 95% Empirique : -0.03173868176646475\n",
      "VaR 99% Gauss: -0.04724234754036476\n",
      "VaR 95% Gauss: -0.03343127000613611\n",
      "VaR 99% Kernel : -0.05317655438709728\n",
      "VaR 95% Kernel : -0.032458228099227965\n"
     ]
    }
   ],
   "source": [
    "#Main\n",
    "l=Openfile('NatixisStock.txt')  #open file\n",
    "rend=rendement(l)  #calculation of returns\n",
    "\n",
    "#Empirical VaR\n",
    "#For 95% confidence, VaR is the lowest 5% of returns. \n",
    "#Drawback : Does not react well to extreme values, large events (black swans) like stock market booms and crashes.\n",
    "VaR_95_empirique=VaR_empirique(rend,0.05) \n",
    "VaR_99_empirique=VaR_empirique(rend,0.01) \n",
    "print(\"VaR 99% Empirique :\",VaR_99_empirique)\n",
    "print(\"VaR 95% Empirique :\",VaR_95_empirique)\n",
    "\n",
    "\n",
    "#Parametric Gaussian VaR\n",
    "#Drawback : The Parametric model doesn’t reflect well what happens at the tails (au niveau des queues) \n",
    "#because the Gaussian distribution has very thin tails and that's not what actual return distribution looks like.\n",
    "VaR_95_gauss=VaR_gauss(rend,0.05) \n",
    "VaR_99_gauss=VaR_gauss(rend,0.01) \n",
    "print(\"VaR 99% Gauss:\",VaR_99_gauss) \n",
    "print(\"VaR 95% Gauss:\",VaR_95_gauss) \n",
    "\n",
    "#Non-Parametric Kernel VaR\n",
    "VaR_95_kernel=VaR_kernel(rend,0.05)\n",
    "VaR_99_kernel=VaR_kernel(rend,0.01)\n",
    "print(\"VaR 99% Kernel :\",VaR_99_kernel)\n",
    "print(\"VaR 95% Kernel :\",VaR_95_kernel)\n"
   ]
  },
  {
   "cell_type": "code",
   "execution_count": 9,
   "id": "9994840b",
   "metadata": {},
   "outputs": [
    {
     "data": {
      "image/png": "[encoded data removed]",
      "text/plain": [
       "<Figure size 432x288 with 1 Axes>"
      ]
     },
     "metadata": {
      "needs_background": "light"
     },
     "output_type": "display_data"
    }
   ],
   "source": [
    "#Plot\n",
    "plt.hist(rend,range=(-0.10,0.10),color=\"lightgrey\", edgecolor = 'black',density = True,bins = 20)\n",
    "plt.xlabel('returns')\n",
    "plt.title('Histogram of P&L')\n",
    "plt.axvline(x=VaR_95_empirique, color='blue',linestyle='--', label='VaR 95 empirique')\n",
    "plt.axvline(x=VaR_99_empirique, color='orange',linestyle='--', label='VaR 99 empirique')\n",
    "plt.axvline(x=VaR_95_gauss, color='purple',linestyle='--', label='VaR 95 gauss')\n",
    "plt.axvline(x=VaR_99_gauss, color='salmon',linestyle='--', label='VaR 99 gauss')\n",
    "plt.axvline(x=VaR_95_kernel, color='lightblue',linestyle='--', label='VaR 95 kernel')\n",
    "plt.axvline(x=VaR_99_kernel, color='red',linestyle='--', label='VaR 99 kernel')\n",
    "plt.legend()\n",
    "plt.show()"
   ]
  },
  {
   "cell_type": "markdown",
   "id": "64add00f",
   "metadata": {},
   "source": [
    "**The limits of VaR**  \n",
    "VaR does not give any indication of the potential size of the loss above it, so the tails of the distribution are often poorly evaluated.  \n",
    "VAR is based on the study of the past to predict the future evolution of prices. However, past performance does not guarantee future performance.  \n",
    "VaR is not a coherent risk measure because it is not sub-additive.\n",
    "\n",
    "This is why we introduced the Expected Shortfall which is now recommended by the FRTB.\n",
    "\n",
    "\n",
    "**Expected Shortfall**    \n",
    "\n",
    "The Expected shortfall (ES), also known as conditional value at risk (CVaR) represents the average loss that is expected to occur beyond the VaR.\n",
    "\n",
    "$$\\text{X a loss}: ES_\\alpha(X)=\\frac{1}{1-\\alpha}\\int_{\\alpha}^{1} VaR_\\beta(X)  d\\beta=\\frac{1}{1-\\alpha}\\int_{\\alpha}^{1}F_X^{-1}(\\beta) d\\beta$$\n",
    "\n",
    "$$\\text{X a gain}: ES_\\alpha(X)=\\frac{1}{1-\\alpha}\\int_{\\alpha}^{1} VaR_\\beta(X)  d\\beta=\\frac{1}{1-\\alpha}\\int_{\\alpha}^{1}-F_X^{-1}(1-\\beta) d\\beta$$"
   ]
  },
  {
   "cell_type": "code",
   "execution_count": 8,
   "id": "eef2d9b4",
   "metadata": {},
   "outputs": [],
   "source": [
    "#Expected shortfall : empirical VaR\n",
    "def CVaR(rend,alpha): \n",
    "    return np.mean([x for x in rend if x<=VaR_empirique(rend,alpha)])"
   ]
  },
  {
   "cell_type": "code",
   "execution_count": 11,
   "id": "5c043449",
   "metadata": {},
   "outputs": [
    {
     "name": "stdout",
     "output_type": "stream",
     "text": [
      "VaR 95% : -0.03173868176646475\n",
      "ES 95% :  -0.04624367789487057\n"
     ]
    }
   ],
   "source": [
    "#Main\n",
    "VaR_95_empirique=VaR_empirique(rend,0.05) \n",
    "print(\"VaR 95% :\",VaR_95_empirique)\n",
    "\n",
    "ES_95=CVaR(rend,0.05) \n",
    "print(\"ES 95% : \",ES_95)"
   ]
  },
  {
   "cell_type": "code",
   "execution_count": 12,
   "id": "8929e6d4",
   "metadata": {},
   "outputs": [
    {
     "data": {
      "image/png": "[encoded data removed]",
      "text/plain": [
       "<Figure size 432x288 with 1 Axes>"
      ]
     },
     "metadata": {
      "needs_background": "light"
     },
     "output_type": "display_data"
    }
   ],
   "source": [
    "#Plot\n",
    "plt.hist(rend,range=(-0.10,0.10),color=\"lightgrey\", edgecolor = 'black',density = True,bins = 20)\n",
    "plt.xlabel('returns')\n",
    "plt.title('Histogram of P&L')\n",
    "plt.axvline(x=VaR_95_empirique, color='blue',linestyle='--', label='VaR 95 empirique')\n",
    "plt.axvline(x=ES_95, color='orange',linestyle='--', label='ES 95')\n",
    "plt.legend()\n",
    "plt.show()"
   ]
  },
  {
   "cell_type": "markdown",
   "id": "468e80fa",
   "metadata": {},
   "source": [
    "The Expected Shortfall is lower than VaR because it only takes into account losses that exceed VaR, while VaR takes into account all losses."
   ]
  }
 ],
 "metadata": {
  "kernelspec": {
   "display_name": "Python 3 (ipykernel)",
   "language": "python",
   "name": "python3"
  },
  "language_info": {
   "codemirror_mode": {
    "name": "ipython",
    "version": 3
   },
   "file_extension": ".py",
   "mimetype": "text/x-python",
   "name": "python",
   "nbconvert_exporter": "python",
   "pygments_lexer": "ipython3",
   "version": "3.9.7"
  }
 },
 "nbformat": 4,
 "nbformat_minor": 5
}
