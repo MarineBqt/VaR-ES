{
 "cells": [
  {
   "cell_type": "markdown",
   "id": "98de4572",
   "metadata": {},
   "source": [
    "# <center>Value at Risk : VaR & Expected Shortfall : ES</center>"
   ]
  },
  {
   "cell_type": "markdown",
   "id": "9d88b8f2",
   "metadata": {},
   "source": [
    "The Value at Risk is a simple model to evaluate the risk of a portfolio. \n",
    "VaR is used to determine the maximum loss of a portfolio over a given period with a given probability.\n",
    "\n",
    "$$\\text{X a loss}: VaR_\\alpha(X)=F_X^{-1}(\\alpha)$$\n",
    "\n",
    "$$\\text{X a gain}: VaR_\\alpha(X)=-F_X^{-1}(1-\\alpha)$$\n",
    "\n",
    "If the VaR of a portfolio with a 10 day horizon is 1000€ with a confidence interval of 95%, it means that over the next 10 days, there is a 95% chance that the portfolio will never lose more than 1000€.  \n",
    "We assume that our returns follow a Gaussian normal distribution.  \n",
    "Historical VaR : based directly on past values. "
   ]
  },
  {
   "cell_type": "code",
   "execution_count": 1,
   "id": "b90dbf3d",
   "metadata": {},
   "outputs": [],
   "source": [
    "import scipy.stats as st\n",
    "import numpy as np\n",
    "import matplotlib.pyplot as plt\n",
    "\n",
    "#Data recovery and conversion\n",
    "def Openfile(file):\n",
    "    f=open(file,'r')\n",
    "    l=[]\n",
    "    for line in f:\n",
    "        currentline=line.split()\n",
    "        l.append([currentline[0],float(currentline[1].replace(',','.'))])\n",
    "    f.close()\n",
    "    return l\n",
    "\n",
    "\n",
    "#Calculation of returns\n",
    "def rendement(l):\n",
    "    rend=[]\n",
    "    for i in range(len(l)):\n",
    "        if(i==0): rend.append(0.0)\n",
    "        else: rend.append((l[i][1]-l[i-1][1])/l[i-1][1])\n",
    "    return rend\n",
    "    \n",
    "\n",
    "#Value at risk calculation\n",
    "def VaR_empirique(rend,alpha):\n",
    "   rendsorted=sorted(rend)\n",
    "   return np.quantile(rendsorted, q=alpha) \n",
    "\n",
    "\n",
    "def VaR_gauss(rend,alpha):\n",
    "    z=st.norm.ppf(alpha)\n",
    "    return np.mean(rend)+z*np.sqrt(np.var(rend)) \n",
    "\n",
    "def VaR_kernel(rend,alpha): \n",
    "    kde=st.gaussian_kde(rend)\n",
    "    sample=kde.resample(size=513)\n",
    "    return np.quantile(sample,alpha)\n",
    "  "
   ]
  },
  {
   "cell_type": "code",
   "execution_count": 21,
   "id": "0c82a887",
   "metadata": {},
   "outputs": [
    {
     "name": "stdout",
     "output_type": "stream",
     "text": [
      "VaR 99% Empirique : -0.05378147466007381\n",
      "VaR 95% Empirique : -0.03173868176646475\n",
      "VaR 99% Gauss: -0.04724234754036476\n",
      "VaR 95% Gauss: -0.03343127000613611\n",
      "VaR 99% Kernel : -0.055753334232596645\n",
      "VaR 95% Kernel : -0.027912751299641995\n"
     ]
    }
   ],
   "source": [
    "#Main\n",
    "l=Openfile('NatixisStock.txt')  #open file\n",
    "rend=rendement(l)  #calculation of returns\n",
    "\n",
    "#Empirical VaR\n",
    "#For 95% confidence, VaR is the lowest 5% of returns. \n",
    "#Drawback : Does not react well to extreme values, large events (black swans) like stock market booms and crashes.\n",
    "VaR_95_empirique=VaR_empirique(rend,0.05) \n",
    "VaR_99_empirique=VaR_empirique(rend,0.01) \n",
    "print(\"VaR 99% Empirique :\",VaR_99_empirique)\n",
    "print(\"VaR 95% Empirique :\",VaR_95_empirique)\n",
    "\n",
    "\n",
    "#Parametric Gaussian VaR\n",
    "#Drawback : The Parametric model doesn’t reflect well what happens at the tails (au niveau des queues) \n",
    "#because the Gaussian distribution has very thin tails and that's not what actual return distribution looks like.\n",
    "VaR_95_gauss=VaR_gauss(rend,0.05) \n",
    "VaR_99_gauss=VaR_gauss(rend,0.01) \n",
    "print(\"VaR 99% Gauss:\",VaR_99_gauss) \n",
    "print(\"VaR 95% Gauss:\",VaR_95_gauss) \n",
    "\n",
    "#Non-Parametric Kernel VaR\n",
    "VaR_95_kernel=VaR_kernel(rend,0.05)\n",
    "VaR_99_kernel=VaR_kernel(rend,0.01)\n",
    "print(\"VaR 99% Kernel :\",VaR_99_kernel)\n",
    "print(\"VaR 95% Kernel :\",VaR_95_kernel)\n"
   ]
  },
  {
   "cell_type": "code",
   "execution_count": 22,
   "id": "9994840b",
   "metadata": {},
   "outputs": [
    {
     "data": {
      "image/png": "[encoded data removed]",
      "text/plain": [
       "<Figure size 432x288 with 1 Axes>"
      ]
     },
     "metadata": {
      "needs_background": "light"
     },
     "output_type": "display_data"
    }
   ],
   "source": [
    "#Plot\n",
    "plt.hist(rend,range=(-0.10,0.10),color=\"lightgrey\", edgecolor = 'black',density = True,bins = 20)\n",
    "plt.xlabel('returns')\n",
    "plt.title('Histogram of P&L')\n",
    "plt.axvline(x=VaR_95_empirique, color='blue',linestyle='--', label='VaR 95 empirique')\n",
    "plt.axvline(x=VaR_99_empirique, color='orange',linestyle='--', label='VaR 99 empirique')\n",
    "plt.axvline(x=VaR_95_gauss, color='purple',linestyle='--', label='VaR 95 gauss')\n",
    "plt.axvline(x=VaR_99_gauss, color='salmon',linestyle='--', label='VaR 99 gauss')\n",
    "plt.axvline(x=VaR_95_kernel, color='lightblue',linestyle='--', label='VaR 95 kernel')\n",
    "plt.axvline(x=VaR_99_kernel, color='red',linestyle='--', label='VaR 99 kernel')\n",
    "plt.legend()\n",
    "plt.show()"
   ]
  },
  {
   "cell_type": "markdown",
   "id": "64add00f",
   "metadata": {},
   "source": [
    "The limits of VaR:  \n",
    "-VaR does not give any indication of the potential size of the loss above it, so the tails of the distribution are often poorly evaluated.    \n",
    "-VAR is based on the study of the past to predict the future evolution of prices. However, past performance does not guarantee future performance.   \n",
    "-VaR is not a coherent risk measure because it is not sub-additive\n",
    " \n",
    "This is why we introduced the Expected Shortfall which represents the average loss above the Var.  \n",
    "This is the measure that is now recommended by the FRTB.\n",
    "\n",
    "$$\\text{X a loss}: ES_\\alpha(X)=\\frac{1}{1-\\alpha}\\int_{\\alpha}^{1} VaR_\\beta(X)  d\\beta=\\frac{1}{1-\\alpha}\\int_{\\alpha}^{1}F_X^{-1}(\\beta) d\\beta$$\n",
    "\n",
    "$$\\text{X a gain}: ES_\\alpha(X)=\\frac{1}{1-\\alpha}\\int_{\\alpha}^{1} VaR_\\beta(X)  d\\beta=\\frac{1}{1-\\alpha}\\int_{\\alpha}^{1}-F_X^{-1}(1-\\beta) d\\beta$$"
   ]
  },
  {
   "cell_type": "code",
   "execution_count": 8,
   "id": "eef2d9b4",
   "metadata": {},
   "outputs": [],
   "source": [
    "#Expected shortfall : empirical VaR\n",
    "def CVaR(rend,alpha): \n",
    "    return np.mean([x for x in rend if x<=VaR_empirique(rend,alpha)])"
   ]
  },
  {
   "cell_type": "code",
   "execution_count": 11,
   "id": "5c043449",
   "metadata": {},
   "outputs": [
    {
     "name": "stdout",
     "output_type": "stream",
     "text": [
      "VaR 95% : -0.03173868176646475\n",
      "ES 95% :  -0.04624367789487057\n"
     ]
    }
   ],
   "source": [
    "#Main\n",
    "VaR_95_empirique=VaR_empirique(rend,0.05) \n",
    "print(\"VaR 95% :\",VaR_95_empirique)\n",
    "\n",
    "ES_95=CVaR(rend,0.05) \n",
    "print(\"ES 95% : \",ES_95)"
   ]
  },
  {
   "cell_type": "code",
   "execution_count": 12,
   "id": "8929e6d4",
   "metadata": {},
   "outputs": [
    {
     "data": {
      "image/png": "[encoded data removed]",
      "text/plain": [
       "<Figure size 432x288 with 1 Axes>"
      ]
     },
     "metadata": {
      "needs_background": "light"
     },
     "output_type": "display_data"
    }
   ],
   "source": [
    "#Plot\n",
    "plt.hist(rend,range=(-0.10,0.10),color=\"lightgrey\", edgecolor = 'black',density = True,bins = 20)\n",
    "plt.xlabel('returns')\n",
    "plt.title('Histogram of P&L')\n",
    "plt.axvline(x=VaR_95_empirique, color='blue',linestyle='--', label='VaR 95 empirique')\n",
    "plt.axvline(x=ES_95, color='orange',linestyle='--', label='ES 95')\n",
    "plt.legend()\n",
    "plt.show()"
   ]
  }
 ],
 "metadata": {
  "kernelspec": {
   "display_name": "Python 3 (ipykernel)",
   "language": "python",
   "name": "python3"
  },
  "language_info": {
   "codemirror_mode": {
    "name": "ipython",
    "version": 3
   },
   "file_extension": ".py",
   "mimetype": "text/x-python",
   "name": "python",
   "nbconvert_exporter": "python",
   "pygments_lexer": "ipython3",
   "version": "3.9.7"
  }
 },
 "nbformat": 4,
 "nbformat_minor": 5
}
